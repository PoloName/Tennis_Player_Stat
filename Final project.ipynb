{
 "cells": [
  {
   "cell_type": "markdown",
   "id": "47e50c7e-8b94-407f-8cbc-e5fc9b9ee3d7",
   "metadata": {
    "tags": []
   },
   "source": [
    "# Serve, Rally, Analyze: Unraveling Tennis Player Handedness with Data Science"
   ]
  },
  {
   "cell_type": "markdown",
   "id": "c9943c20-30b6-469d-b20f-b0a6233b0c6c",
   "metadata": {
    "tags": []
   },
   "source": [
    "### Introduction:"
   ]
  },
  {
   "cell_type": "markdown",
   "id": "2b94551f-6549-47ad-8973-7cd7a0750b6b",
   "metadata": {},
   "source": [
    "Tennis, a sport known for its dynamic and individualistic nature, has witnessed the rise of numerous talented players over the years. Our project focuses on predicting the fundamental aspect of a tennis player’s game - their handedness. Handedness, a very important part of a player’s playing style, has been a subject of intrigue, prompting us to explore the correlation with ranking, age, and handedness. \n",
    "\n",
    "Handedness is more than a mere technical detail as it is a defining characteristic that influences a player’s shot selection, court coverage, and overall gameplay. It has been found that the ball distribution and the angle of lateral ball flight differ between right- and left-handed servers (Loffing et al., 2009). Additionally, players who use their left hand may possess an advantage in terms of both strategy and technical skills. Amongst the most famous tennis players, despite being naturally right-handed, Rafael Nadal was urged by his uncle and coach to play tennis using his left hand as it was thought to be advantageous (Nadal & Carlin, 2012). It is commonly thought that left-handed people have superior spatial, motor, and attention functions overall (Breznik, 2013). Handedness raises the compelling question of how it shapes a player’s approach on the court thus their success in ranking. \n",
    "\n",
    "Research Question:\n",
    "The primary question driving our project is can a tennis player’s handedness be predicted or classified based on their age and current rank? By exploring this question, we aim to uncover potential relationships and patterns that illuminate the dynamics between player’s age, standing ranks, and preferred handedness. While there is an uneven distribution with more individuals in the right-handed sample group, we hypothesize that a higher proportion of left-handed players in our dataset may correlate with higher rankings.\n",
    "\n",
    "Dataset: \n",
    "To address this question, we turn to the dataset provided by Ultimate Tennis Statistics (UTS), a comprehensive repository of detailed information on the top 500 tennis players. This dataset includes essential attributes vital to our research question, including age, rank, and, significantly, the handedness of each player. By strategically curating our dataset, we have excluded extraneous variables such as country of origin and player name. The rank acts as a snapshot of a player’s standing in the world of competitive tennis. Most critically, the labelled information on handedness forms the basis of our predictive modelling thus guiding our exploration.\n",
    "(this part below can be used in the introduction and then rewritten in a way for the impact part of the discussion)\n",
    "The choice to investigate the handedness of forehand and backhand plays stems from its key role in a player’s strategy and overall performance on the court. As a fundamental aspect of a tennis player’s skill set, the forehand may hold valuable insights into patterns and trends that could correlate with success, both on the scoreboard and in terms of ranking. \n",
    "Our inquiry holds implications not only for the field of sports analytics but also for players, coaches, and enthusiasts seeking a deeper understanding of the factors influencing success in the sport. Through thoughtful statistical techniques and data analysis, we hope to contribute valuable insights to the broader discussion surrounding the complicated nature of achievement in professional tennis.  \n"
   ]
  },
  {
   "cell_type": "code",
   "execution_count": null,
   "id": "077e0d44-5618-43ff-a86d-eaed62a21977",
   "metadata": {},
   "outputs": [],
   "source": []
  }
 ],
 "metadata": {
  "kernelspec": {
   "display_name": "R",
   "language": "R",
   "name": "ir"
  },
  "language_info": {
   "codemirror_mode": "r",
   "file_extension": ".r",
   "mimetype": "text/x-r-source",
   "name": "R",
   "pygments_lexer": "r",
   "version": "4.2.2"
  }
 },
 "nbformat": 4,
 "nbformat_minor": 5
}
